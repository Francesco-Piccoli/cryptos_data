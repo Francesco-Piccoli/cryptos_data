{
  "nbformat": 4,
  "nbformat_minor": 0,
  "metadata": {
    "colab": {
      "name": "Wikipedia.ipynb",
      "provenance": []
    },
    "kernelspec": {
      "name": "python3",
      "display_name": "Python 3"
    }
  },
  "cells": [
    {
      "cell_type": "code",
      "metadata": {
        "id": "HT5j8AWc7Re6",
        "colab_type": "code",
        "colab": {
          "base_uri": "https://localhost:8080/",
          "height": 510
        },
        "outputId": "5b83d601-25be-4d60-dc5d-9e3d2401b92c"
      },
      "source": [
        "! pip install mwviews"
      ],
      "execution_count": 2,
      "outputs": [
        {
          "output_type": "stream",
          "text": [
            "Collecting mwviews\n",
            "  Downloading https://files.pythonhosted.org/packages/39/f9/97e8491c92a0a2774d19dd190e1104f12822376c9280973c6aa0c8719d14/mwviews-0.1.0.tar.gz\n",
            "Requirement already satisfied: requests in /usr/local/lib/python3.6/dist-packages (from mwviews) (2.21.0)\n",
            "Collecting mwcli\n",
            "  Downloading https://files.pythonhosted.org/packages/d2/21/71ba94260e798e02adeeaa3be2dc81c5ba72d307af52da7b596869cb8a91/mwcli-0.0.3-py2.py3-none-any.whl\n",
            "Collecting mwapi\n",
            "  Downloading https://files.pythonhosted.org/packages/51/03/781475971d8cfc941c1d4906acc42c3a03aa4db622f402c78e3ea36f5253/mwapi-0.5.1-py2.py3-none-any.whl\n",
            "Requirement already satisfied: chardet<3.1.0,>=3.0.2 in /usr/local/lib/python3.6/dist-packages (from requests->mwviews) (3.0.4)\n",
            "Requirement already satisfied: idna<2.9,>=2.5 in /usr/local/lib/python3.6/dist-packages (from requests->mwviews) (2.8)\n",
            "Requirement already satisfied: certifi>=2017.4.17 in /usr/local/lib/python3.6/dist-packages (from requests->mwviews) (2019.11.28)\n",
            "Requirement already satisfied: urllib3<1.25,>=1.21.1 in /usr/local/lib/python3.6/dist-packages (from requests->mwviews) (1.24.3)\n",
            "Collecting mwxml\n",
            "  Downloading https://files.pythonhosted.org/packages/28/af/1277846ecfdc19d8ba9fd75cf5a180955f21709d52c98f8c20bec525de84/mwxml-0.3.3-py2.py3-none-any.whl\n",
            "Collecting para\n",
            "  Downloading https://files.pythonhosted.org/packages/71/62/55f612856021efa8fe7425289914f3641cca7eb9bc9374bf888597f37ce7/para-0.0.8-py3-none-any.whl\n",
            "Requirement already satisfied: docopt in /usr/local/lib/python3.6/dist-packages (from mwcli->mwviews) (0.6.2)\n",
            "Requirement already satisfied: jsonschema>=2.5.1 in /usr/local/lib/python3.6/dist-packages (from mwxml->mwcli->mwviews) (2.6.0)\n",
            "Collecting mwtypes>=0.3.0\n",
            "  Downloading https://files.pythonhosted.org/packages/14/2e/0a985a90053fa88470365f927b9464490bfb8bf70e9577db8fa4eb405357/mwtypes-0.3.2-py2.py3-none-any.whl\n",
            "Collecting jsonable>=0.3.0\n",
            "  Downloading https://files.pythonhosted.org/packages/0e/55/c6bcb4ec7f93bf8f98b57d7e185cf5ee02b52473ed84d5611277f710cdcc/jsonable-0.3.1-py2.py3-none-any.whl\n",
            "Building wheels for collected packages: mwviews\n",
            "  Building wheel for mwviews (setup.py) ... \u001b[?25l\u001b[?25hdone\n",
            "  Created wheel for mwviews: filename=mwviews-0.1.0-cp36-none-any.whl size=7784 sha256=258b1e78d20bab9633996792da01d5bbd42bdc9f9d9cf4bb9c5b7f369f6911b5\n",
            "  Stored in directory: /root/.cache/pip/wheels/70/ec/75/fa7389c7080e8abc80f9c8bbbd25816e77cdf38537e4210b10\n",
            "Successfully built mwviews\n",
            "Installing collected packages: para, jsonable, mwtypes, mwxml, mwcli, mwapi, mwviews\n",
            "Successfully installed jsonable-0.3.1 mwapi-0.5.1 mwcli-0.0.3 mwtypes-0.3.2 mwviews-0.1.0 mwxml-0.3.3 para-0.0.8\n"
          ],
          "name": "stdout"
        }
      ]
    },
    {
      "cell_type": "code",
      "metadata": {
        "id": "c_gTbxGP7dez",
        "colab_type": "code",
        "colab": {
          "base_uri": "https://localhost:8080/",
          "height": 142
        },
        "outputId": "b424f03d-f264-4e3c-9530-c0d3bd620dd3"
      },
      "source": [
        "from mwviews.api import PageviewsClient\n",
        "import matplotlib.pyplot as plt\n",
        "import pandas as pd\n",
        "from google.colab import drive\n",
        "drive.mount('/content/gdrive')\n",
        "%cd gdrive/My Drive/INFO_290"
      ],
      "execution_count": 43,
      "outputs": [
        {
          "output_type": "stream",
          "text": [
            "Go to this URL in a browser: https://accounts.google.com/o/oauth2/auth?client_id=947318989803-6bn6qk8qdgf4n4g3pfee6491hc0brc4i.apps.googleusercontent.com&redirect_uri=urn%3aietf%3awg%3aoauth%3a2.0%3aoob&response_type=code&scope=email%20https%3a%2f%2fwww.googleapis.com%2fauth%2fdocs.test%20https%3a%2f%2fwww.googleapis.com%2fauth%2fdrive%20https%3a%2f%2fwww.googleapis.com%2fauth%2fdrive.photos.readonly%20https%3a%2f%2fwww.googleapis.com%2fauth%2fpeopleapi.readonly\n",
            "\n",
            "Enter your authorization code:\n",
            "··········\n",
            "Mounted at /content/gdrive\n",
            "/content/gdrive/My Drive/INFO_290\n"
          ],
          "name": "stdout"
        }
      ]
    },
    {
      "cell_type": "code",
      "metadata": {
        "id": "fshKF8YW7hcy",
        "colab_type": "code",
        "colab": {}
      },
      "source": [
        "p = PageviewsClient(\"mark-needham\")\n",
        "cryptos = [\"Ripple\", \"Bitcoin\", \"Ethereum\", \"Coinbase\", \"Binance\", \"Cryptocurrency\"]\n",
        "views = p.article_views(\"en.wikipedia\", cryptos,  start=\"20160101\", end=\"20200320\")"
      ],
      "execution_count": 0,
      "outputs": []
    },
    {
      "cell_type": "code",
      "metadata": {
        "id": "yV0eqrkL7qmM",
        "colab_type": "code",
        "colab": {}
      },
      "source": [
        "for day in views:\n",
        "    print(day, views[day])"
      ],
      "execution_count": 0,
      "outputs": []
    },
    {
      "cell_type": "code",
      "metadata": {
        "id": "dHk5pXuR9crh",
        "colab_type": "code",
        "colab": {
          "base_uri": "https://localhost:8080/",
          "height": 402
        },
        "outputId": "cc17673a-2592-4cc9-a353-4c43670e63e7"
      },
      "source": [
        "wiki = pd.DataFrame(views).T\n",
        "wiki"
      ],
      "execution_count": 52,
      "outputs": [
        {
          "output_type": "execute_result",
          "data": {
            "text/html": [
              "<div>\n",
              "<style scoped>\n",
              "    .dataframe tbody tr th:only-of-type {\n",
              "        vertical-align: middle;\n",
              "    }\n",
              "\n",
              "    .dataframe tbody tr th {\n",
              "        vertical-align: top;\n",
              "    }\n",
              "\n",
              "    .dataframe thead th {\n",
              "        text-align: right;\n",
              "    }\n",
              "</style>\n",
              "<table border=\"1\" class=\"dataframe\">\n",
              "  <thead>\n",
              "    <tr style=\"text-align: right;\">\n",
              "      <th></th>\n",
              "      <th>Ripple</th>\n",
              "      <th>Bitcoin</th>\n",
              "      <th>Ethereum</th>\n",
              "      <th>Coinbase</th>\n",
              "      <th>Binance</th>\n",
              "      <th>Cryptocurrency</th>\n",
              "    </tr>\n",
              "  </thead>\n",
              "  <tbody>\n",
              "    <tr>\n",
              "      <th>2016-01-01</th>\n",
              "      <td>41.0</td>\n",
              "      <td>6917.0</td>\n",
              "      <td>350.0</td>\n",
              "      <td>157.0</td>\n",
              "      <td>NaN</td>\n",
              "      <td>722.0</td>\n",
              "    </tr>\n",
              "    <tr>\n",
              "      <th>2016-01-02</th>\n",
              "      <td>39.0</td>\n",
              "      <td>8377.0</td>\n",
              "      <td>455.0</td>\n",
              "      <td>168.0</td>\n",
              "      <td>NaN</td>\n",
              "      <td>831.0</td>\n",
              "    </tr>\n",
              "    <tr>\n",
              "      <th>2016-01-03</th>\n",
              "      <td>52.0</td>\n",
              "      <td>10766.0</td>\n",
              "      <td>529.0</td>\n",
              "      <td>168.0</td>\n",
              "      <td>NaN</td>\n",
              "      <td>826.0</td>\n",
              "    </tr>\n",
              "    <tr>\n",
              "      <th>2016-01-04</th>\n",
              "      <td>65.0</td>\n",
              "      <td>10785.0</td>\n",
              "      <td>712.0</td>\n",
              "      <td>193.0</td>\n",
              "      <td>NaN</td>\n",
              "      <td>1124.0</td>\n",
              "    </tr>\n",
              "    <tr>\n",
              "      <th>2016-01-05</th>\n",
              "      <td>39.0</td>\n",
              "      <td>10522.0</td>\n",
              "      <td>702.0</td>\n",
              "      <td>325.0</td>\n",
              "      <td>NaN</td>\n",
              "      <td>1190.0</td>\n",
              "    </tr>\n",
              "    <tr>\n",
              "      <th>...</th>\n",
              "      <td>...</td>\n",
              "      <td>...</td>\n",
              "      <td>...</td>\n",
              "      <td>...</td>\n",
              "      <td>...</td>\n",
              "      <td>...</td>\n",
              "    </tr>\n",
              "    <tr>\n",
              "      <th>2020-03-16</th>\n",
              "      <td>49.0</td>\n",
              "      <td>7018.0</td>\n",
              "      <td>4085.0</td>\n",
              "      <td>824.0</td>\n",
              "      <td>1434.0</td>\n",
              "      <td>4240.0</td>\n",
              "    </tr>\n",
              "    <tr>\n",
              "      <th>2020-03-17</th>\n",
              "      <td>52.0</td>\n",
              "      <td>6889.0</td>\n",
              "      <td>1731.0</td>\n",
              "      <td>757.0</td>\n",
              "      <td>1425.0</td>\n",
              "      <td>4463.0</td>\n",
              "    </tr>\n",
              "    <tr>\n",
              "      <th>2020-03-18</th>\n",
              "      <td>42.0</td>\n",
              "      <td>6672.0</td>\n",
              "      <td>1649.0</td>\n",
              "      <td>766.0</td>\n",
              "      <td>1766.0</td>\n",
              "      <td>5180.0</td>\n",
              "    </tr>\n",
              "    <tr>\n",
              "      <th>2020-03-19</th>\n",
              "      <td>39.0</td>\n",
              "      <td>6983.0</td>\n",
              "      <td>1568.0</td>\n",
              "      <td>834.0</td>\n",
              "      <td>1255.0</td>\n",
              "      <td>4781.0</td>\n",
              "    </tr>\n",
              "    <tr>\n",
              "      <th>2020-03-20</th>\n",
              "      <td>50.0</td>\n",
              "      <td>6418.0</td>\n",
              "      <td>1560.0</td>\n",
              "      <td>749.0</td>\n",
              "      <td>554.0</td>\n",
              "      <td>4028.0</td>\n",
              "    </tr>\n",
              "  </tbody>\n",
              "</table>\n",
              "<p>1541 rows × 6 columns</p>\n",
              "</div>"
            ],
            "text/plain": [
              "            Ripple  Bitcoin  Ethereum  Coinbase  Binance  Cryptocurrency\n",
              "2016-01-01    41.0   6917.0     350.0     157.0      NaN           722.0\n",
              "2016-01-02    39.0   8377.0     455.0     168.0      NaN           831.0\n",
              "2016-01-03    52.0  10766.0     529.0     168.0      NaN           826.0\n",
              "2016-01-04    65.0  10785.0     712.0     193.0      NaN          1124.0\n",
              "2016-01-05    39.0  10522.0     702.0     325.0      NaN          1190.0\n",
              "...            ...      ...       ...       ...      ...             ...\n",
              "2020-03-16    49.0   7018.0    4085.0     824.0   1434.0          4240.0\n",
              "2020-03-17    52.0   6889.0    1731.0     757.0   1425.0          4463.0\n",
              "2020-03-18    42.0   6672.0    1649.0     766.0   1766.0          5180.0\n",
              "2020-03-19    39.0   6983.0    1568.0     834.0   1255.0          4781.0\n",
              "2020-03-20    50.0   6418.0    1560.0     749.0    554.0          4028.0\n",
              "\n",
              "[1541 rows x 6 columns]"
            ]
          },
          "metadata": {
            "tags": []
          },
          "execution_count": 52
        }
      ]
    },
    {
      "cell_type": "code",
      "metadata": {
        "id": "gs6KFv74-7ru",
        "colab_type": "code",
        "colab": {
          "base_uri": "https://localhost:8080/",
          "height": 284
        },
        "outputId": "da0155c3-70eb-4251-cd4b-36915793fdf8"
      },
      "source": [
        "wiki.describe()"
      ],
      "execution_count": 53,
      "outputs": [
        {
          "output_type": "execute_result",
          "data": {
            "text/html": [
              "<div>\n",
              "<style scoped>\n",
              "    .dataframe tbody tr th:only-of-type {\n",
              "        vertical-align: middle;\n",
              "    }\n",
              "\n",
              "    .dataframe tbody tr th {\n",
              "        vertical-align: top;\n",
              "    }\n",
              "\n",
              "    .dataframe thead th {\n",
              "        text-align: right;\n",
              "    }\n",
              "</style>\n",
              "<table border=\"1\" class=\"dataframe\">\n",
              "  <thead>\n",
              "    <tr style=\"text-align: right;\">\n",
              "      <th></th>\n",
              "      <th>Ripple</th>\n",
              "      <th>Bitcoin</th>\n",
              "      <th>Ethereum</th>\n",
              "      <th>Coinbase</th>\n",
              "      <th>Binance</th>\n",
              "      <th>Cryptocurrency</th>\n",
              "    </tr>\n",
              "  </thead>\n",
              "  <tbody>\n",
              "    <tr>\n",
              "      <th>count</th>\n",
              "      <td>1541.000000</td>\n",
              "      <td>1541.000000</td>\n",
              "      <td>1541.000000</td>\n",
              "      <td>1541.000000</td>\n",
              "      <td>737.000000</td>\n",
              "      <td>1541.000000</td>\n",
              "    </tr>\n",
              "    <tr>\n",
              "      <th>mean</th>\n",
              "      <td>98.625568</td>\n",
              "      <td>20082.551590</td>\n",
              "      <td>3473.302401</td>\n",
              "      <td>910.451006</td>\n",
              "      <td>566.158752</td>\n",
              "      <td>5861.695652</td>\n",
              "    </tr>\n",
              "    <tr>\n",
              "      <th>std</th>\n",
              "      <td>157.067433</td>\n",
              "      <td>27539.398255</td>\n",
              "      <td>3542.026001</td>\n",
              "      <td>1296.329104</td>\n",
              "      <td>290.902747</td>\n",
              "      <td>6028.014216</td>\n",
              "    </tr>\n",
              "    <tr>\n",
              "      <th>min</th>\n",
              "      <td>17.000000</td>\n",
              "      <td>4781.000000</td>\n",
              "      <td>350.000000</td>\n",
              "      <td>106.000000</td>\n",
              "      <td>135.000000</td>\n",
              "      <td>722.000000</td>\n",
              "    </tr>\n",
              "    <tr>\n",
              "      <th>25%</th>\n",
              "      <td>48.000000</td>\n",
              "      <td>8777.000000</td>\n",
              "      <td>1561.000000</td>\n",
              "      <td>327.000000</td>\n",
              "      <td>437.000000</td>\n",
              "      <td>2134.000000</td>\n",
              "    </tr>\n",
              "    <tr>\n",
              "      <th>50%</th>\n",
              "      <td>61.000000</td>\n",
              "      <td>11655.000000</td>\n",
              "      <td>1992.000000</td>\n",
              "      <td>615.000000</td>\n",
              "      <td>522.000000</td>\n",
              "      <td>4513.000000</td>\n",
              "    </tr>\n",
              "    <tr>\n",
              "      <th>75%</th>\n",
              "      <td>93.000000</td>\n",
              "      <td>18651.000000</td>\n",
              "      <td>3943.000000</td>\n",
              "      <td>969.000000</td>\n",
              "      <td>621.000000</td>\n",
              "      <td>6528.000000</td>\n",
              "    </tr>\n",
              "    <tr>\n",
              "      <th>max</th>\n",
              "      <td>2373.000000</td>\n",
              "      <td>347624.000000</td>\n",
              "      <td>30672.000000</td>\n",
              "      <td>15567.000000</td>\n",
              "      <td>5659.000000</td>\n",
              "      <td>47487.000000</td>\n",
              "    </tr>\n",
              "  </tbody>\n",
              "</table>\n",
              "</div>"
            ],
            "text/plain": [
              "            Ripple        Bitcoin  ...      Binance  Cryptocurrency\n",
              "count  1541.000000    1541.000000  ...   737.000000     1541.000000\n",
              "mean     98.625568   20082.551590  ...   566.158752     5861.695652\n",
              "std     157.067433   27539.398255  ...   290.902747     6028.014216\n",
              "min      17.000000    4781.000000  ...   135.000000      722.000000\n",
              "25%      48.000000    8777.000000  ...   437.000000     2134.000000\n",
              "50%      61.000000   11655.000000  ...   522.000000     4513.000000\n",
              "75%      93.000000   18651.000000  ...   621.000000     6528.000000\n",
              "max    2373.000000  347624.000000  ...  5659.000000    47487.000000\n",
              "\n",
              "[8 rows x 6 columns]"
            ]
          },
          "metadata": {
            "tags": []
          },
          "execution_count": 53
        }
      ]
    },
    {
      "cell_type": "code",
      "metadata": {
        "id": "7fjSp-rQ-dy-",
        "colab_type": "code",
        "colab": {
          "base_uri": "https://localhost:8080/",
          "height": 282
        },
        "outputId": "d09cd807-0708-4bf4-8e06-248c1647b65e"
      },
      "source": [
        "plt.plot(wiki['Cryptocurrency'])"
      ],
      "execution_count": 54,
      "outputs": [
        {
          "output_type": "execute_result",
          "data": {
            "text/plain": [
              "[<matplotlib.lines.Line2D at 0x7f7744be2748>]"
            ]
          },
          "metadata": {
            "tags": []
          },
          "execution_count": 54
        },
        {
          "output_type": "display_data",
          "data": {
            "image/png": "[encoded data removed]",
            "text/plain": [
              "<Figure size 432x288 with 1 Axes>"
            ]
          },
          "metadata": {
            "tags": []
          }
        }
      ]
    },
    {
      "cell_type": "code",
      "metadata": {
        "id": "sJNSCfk__JC9",
        "colab_type": "code",
        "colab": {}
      },
      "source": [
        "wiki.to_csv('wiki_views.csv')"
      ],
      "execution_count": 0,
      "outputs": []
    }
  ]
}