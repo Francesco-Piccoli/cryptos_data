{
  "nbformat": 4,
  "nbformat_minor": 0,
  "metadata": {
    "colab": {
      "name": "Google_trends_Ripple.ipynb",
      "provenance": []
    },
    "kernelspec": {
      "name": "python3",
      "display_name": "Python 3"
    }
  },
  "cells": [
    {
      "cell_type": "code",
      "metadata": {
        "id": "6qgjubP85MbN",
        "colab_type": "code",
        "outputId": "5ac27c6a-f06a-4a29-ee9a-49c2daf6f478",
        "colab": {
          "base_uri": "https://localhost:8080/",
          "height": 439
        }
      },
      "source": [
        "#!pip install pytrends\n",
        "!pip install --upgrade --user git+https://github.com/GeneralMills/pytrends"
      ],
      "execution_count": 1,
      "outputs": [
        {
          "output_type": "stream",
          "text": [
            "Collecting git+https://github.com/GeneralMills/pytrends\n",
            "  Cloning https://github.com/GeneralMills/pytrends to /tmp/pip-req-build-gpiy74i8\n",
            "  Running command git clone -q https://github.com/GeneralMills/pytrends /tmp/pip-req-build-gpiy74i8\n",
            "Requirement already satisfied, skipping upgrade: requests in /usr/local/lib/python3.6/dist-packages (from pytrends==4.7.2) (2.21.0)\n",
            "Requirement already satisfied, skipping upgrade: pandas>=0.25 in /usr/local/lib/python3.6/dist-packages (from pytrends==4.7.2) (0.25.3)\n",
            "Requirement already satisfied, skipping upgrade: lxml in /usr/local/lib/python3.6/dist-packages (from pytrends==4.7.2) (4.2.6)\n",
            "Requirement already satisfied, skipping upgrade: certifi>=2017.4.17 in /usr/local/lib/python3.6/dist-packages (from requests->pytrends==4.7.2) (2019.11.28)\n",
            "Requirement already satisfied, skipping upgrade: urllib3<1.25,>=1.21.1 in /usr/local/lib/python3.6/dist-packages (from requests->pytrends==4.7.2) (1.24.3)\n",
            "Requirement already satisfied, skipping upgrade: chardet<3.1.0,>=3.0.2 in /usr/local/lib/python3.6/dist-packages (from requests->pytrends==4.7.2) (3.0.4)\n",
            "Requirement already satisfied, skipping upgrade: idna<2.9,>=2.5 in /usr/local/lib/python3.6/dist-packages (from requests->pytrends==4.7.2) (2.8)\n",
            "Requirement already satisfied, skipping upgrade: numpy>=1.13.3 in /usr/local/lib/python3.6/dist-packages (from pandas>=0.25->pytrends==4.7.2) (1.18.2)\n",
            "Requirement already satisfied, skipping upgrade: pytz>=2017.2 in /usr/local/lib/python3.6/dist-packages (from pandas>=0.25->pytrends==4.7.2) (2018.9)\n",
            "Requirement already satisfied, skipping upgrade: python-dateutil>=2.6.1 in /usr/local/lib/python3.6/dist-packages (from pandas>=0.25->pytrends==4.7.2) (2.8.1)\n",
            "Requirement already satisfied, skipping upgrade: six>=1.5 in /usr/local/lib/python3.6/dist-packages (from python-dateutil>=2.6.1->pandas>=0.25->pytrends==4.7.2) (1.12.0)\n",
            "Building wheels for collected packages: pytrends\n",
            "  Building wheel for pytrends (setup.py) ... \u001b[?25l\u001b[?25hdone\n",
            "  Created wheel for pytrends: filename=pytrends-4.7.2-cp36-none-any.whl size=14820 sha256=a237f0dd8bb84224ed7eda44160ba402c0d1ef3f6f783373fc713a14af1877f4\n",
            "  Stored in directory: /tmp/pip-ephem-wheel-cache-15_1chjf/wheels/f6/49/f7/a4785ff2079f1cc793186a60d40863c5d4ee9863e2b315a0bd\n",
            "Successfully built pytrends\n",
            "Installing collected packages: pytrends\n",
            "  Found existing installation: pytrends 4.7.2\n",
            "    Uninstalling pytrends-4.7.2:\n",
            "      Successfully uninstalled pytrends-4.7.2\n",
            "Successfully installed pytrends-4.7.2\n"
          ],
          "name": "stdout"
        }
      ]
    },
    {
      "cell_type": "code",
      "metadata": {
        "id": "lfEGCwF-49lL",
        "colab_type": "code",
        "colab": {}
      },
      "source": [
        "import pandas as pd \n",
        "from pytrends.request import TrendReq\n",
        "from datetime import datetime\n",
        "import matplotlib.pyplot as plt\n",
        "import time"
      ],
      "execution_count": 0,
      "outputs": []
    },
    {
      "cell_type": "code",
      "metadata": {
        "id": "7NHEnSqn5RgD",
        "colab_type": "code",
        "colab": {
          "base_uri": "https://localhost:8080/",
          "height": 34
        },
        "outputId": "af8892d9-6c05-42c9-ff82-fb9b17818082"
      },
      "source": [
        "pytrends = TrendReq(hl='en-US', tz=480)\n",
        "\n",
        "kw_list = ['Ripple']\n",
        "kw_list1 = ['Coinbase']\n",
        "kw_list2 = ['Bitcoin']\n",
        "kw_list3 = ['Ethereum']\n",
        "kw_list4 = ['Binance']\n",
        "kw_list5 = ['Ripple', 'Coinbase', 'Bitcoin', 'Ethereum', 'Binance']\n",
        "kw_list6 = ['XRP']\n",
        "\n",
        "\n"
      ],
      "execution_count": 65,
      "outputs": [
        {
          "output_type": "stream",
          "text": [
            "HTTPSConnectionPool(host='trends.google.com', port=443): Read timed out. (read timeout=5)\n"
          ],
          "name": "stdout"
        }
      ]
    },
    {
      "cell_type": "code",
      "metadata": {
        "id": "BIfah7Bz5cvH",
        "colab_type": "code",
        "outputId": "8b10145e-55d5-4b25-d8ec-19504a66dca8",
        "colab": {
          "base_uri": "https://localhost:8080/",
          "height": 369
        }
      },
      "source": [
        "print('Ripple')\n",
        "data = pytrends.get_historical_interest(kw_list, year_start=2017, month_start=1, day_start=1, hour_start=0, year_end=2019, month_end=12, day_end=31, hour_end=23, cat=0, geo='', gprop='', sleep=1)\n",
        "time.sleep(120)\n",
        "print('Coinbase')\n",
        "coinbase = pytrends.get_historical_interest(kw_list1, year_start=2017, month_start=1, day_start=1, hour_start=0, year_end=2019, month_end=12, day_end=31, hour_end=23, cat=0, geo='', gprop='', sleep=1)\n",
        "time.sleep(120)\n",
        "print('bitcoin')\n",
        "bitcoin = pytrends.get_historical_interest(kw_list2, year_start=2017, month_start=1, day_start=1, hour_start=0, year_end=2019, month_end=12, day_end=31, hour_end=23, cat=0, geo='', gprop='', sleep=1)\n",
        "time.sleep(120)\n",
        "print('ethereum')\n",
        "ethereum = pytrends.get_historical_interest(kw_list3, year_start=2017, month_start=1, day_start=1, hour_start=0, year_end=2019, month_end=12, day_end=31, hour_end=23, cat=0, geo='', gprop='', sleep=1)\n",
        "time.sleep(120)\n",
        "print('binance')\n",
        "binance = pytrends.get_historical_interest(kw_list4, year_start=2017, month_start=1, day_start=1, hour_start=0, year_end=2019, month_end=12, day_end=31, hour_end=23, cat=0, geo='', gprop='', sleep=1)\n",
        "time.sleep(120)\n",
        "print('aggregate')\n",
        "aggregate = pytrends.get_historical_interest(kw_list5, year_start=2017, month_start=1, day_start=1, hour_start=0, year_end=2019, month_end=12, day_end=31, hour_end=23, cat=0, geo='', gprop='', sleep=1)\n",
        "print('xrp')\n",
        "xrp = pytrends.get_historical_interest(kw_list6, year_start=2017, month_start=1, day_start=1, hour_start=0, year_end=2019, month_end=12, day_end=31, hour_end=23, cat=0, geo='', gprop='', sleep=1)"
      ],
      "execution_count": 5,
      "outputs": [
        {
          "output_type": "stream",
          "text": [
            "Ripple\n",
            "Coinbase\n",
            "bitcoin\n",
            "HTTPSConnectionPool(host='trends.google.com', port=443): Read timed out. (read timeout=5)\n",
            "HTTPSConnectionPool(host='trends.google.com', port=443): Read timed out. (read timeout=5)\n",
            "HTTPSConnectionPool(host='trends.google.com', port=443): Read timed out. (read timeout=5)\n",
            "HTTPSConnectionPool(host='trends.google.com', port=443): Read timed out. (read timeout=5)\n",
            "ethereum\n",
            "binance\n",
            "HTTPSConnectionPool(host='trends.google.com', port=443): Read timed out. (read timeout=5)\n",
            "HTTPSConnectionPool(host='trends.google.com', port=443): Read timed out. (read timeout=5)\n",
            "HTTPSConnectionPool(host='trends.google.com', port=443): Read timed out. (read timeout=5)\n",
            "HTTPSConnectionPool(host='trends.google.com', port=443): Read timed out. (read timeout=5)\n",
            "HTTPSConnectionPool(host='trends.google.com', port=443): Read timed out. (read timeout=5)\n",
            "HTTPSConnectionPool(host='trends.google.com', port=443): Read timed out. (read timeout=5)\n",
            "HTTPSConnectionPool(host='trends.google.com', port=443): Read timed out. (read timeout=5)\n",
            "HTTPSConnectionPool(host='trends.google.com', port=443): Read timed out. (read timeout=5)\n",
            "HTTPSConnectionPool(host='trends.google.com', port=443): Read timed out. (read timeout=5)\n",
            "HTTPSConnectionPool(host='trends.google.com', port=443): Read timed out. (read timeout=5)\n",
            "aggregate\n"
          ],
          "name": "stdout"
        }
      ]
    },
    {
      "cell_type": "code",
      "metadata": {
        "id": "ag1LoS-wtBdC",
        "colab_type": "code",
        "colab": {
          "base_uri": "https://localhost:8080/",
          "height": 142
        },
        "outputId": "b325ae12-5c99-4adf-d1a0-f78df2ca8e15"
      },
      "source": [
        "from google.colab import drive\n",
        "drive.mount('/content/gdrive')\n",
        "%cd gdrive/My Drive/INFO_290"
      ],
      "execution_count": 27,
      "outputs": [
        {
          "output_type": "stream",
          "text": [
            "Go to this URL in a browser: https://accounts.google.com/o/oauth2/auth?client_id=947318989803-6bn6qk8qdgf4n4g3pfee6491hc0brc4i.apps.googleusercontent.com&redirect_uri=urn%3aietf%3awg%3aoauth%3a2.0%3aoob&response_type=code&scope=email%20https%3a%2f%2fwww.googleapis.com%2fauth%2fdocs.test%20https%3a%2f%2fwww.googleapis.com%2fauth%2fdrive%20https%3a%2f%2fwww.googleapis.com%2fauth%2fdrive.photos.readonly%20https%3a%2f%2fwww.googleapis.com%2fauth%2fpeopleapi.readonly\n",
            "\n",
            "Enter your authorization code:\n",
            "··········\n",
            "Mounted at /content/gdrive\n",
            "/content/gdrive/My Drive/INFO_290\n"
          ],
          "name": "stdout"
        }
      ]
    },
    {
      "cell_type": "code",
      "metadata": {
        "id": "ctvb25Ns6Z2K",
        "colab_type": "code",
        "outputId": "13933189-e0eb-4f84-f96b-24d4ba0db904",
        "colab": {
          "base_uri": "https://localhost:8080/",
          "height": 225
        }
      },
      "source": [
        "data.tail(5)"
      ],
      "execution_count": 12,
      "outputs": [
        {
          "output_type": "execute_result",
          "data": {
            "text/html": [
              "<div>\n",
              "<style scoped>\n",
              "    .dataframe tbody tr th:only-of-type {\n",
              "        vertical-align: middle;\n",
              "    }\n",
              "\n",
              "    .dataframe tbody tr th {\n",
              "        vertical-align: top;\n",
              "    }\n",
              "\n",
              "    .dataframe thead th {\n",
              "        text-align: right;\n",
              "    }\n",
              "</style>\n",
              "<table border=\"1\" class=\"dataframe\">\n",
              "  <thead>\n",
              "    <tr style=\"text-align: right;\">\n",
              "      <th></th>\n",
              "      <th>Ripple</th>\n",
              "      <th>isPartial</th>\n",
              "    </tr>\n",
              "    <tr>\n",
              "      <th>date</th>\n",
              "      <th></th>\n",
              "      <th></th>\n",
              "    </tr>\n",
              "  </thead>\n",
              "  <tbody>\n",
              "    <tr>\n",
              "      <th>2019-12-31 19:00:00</th>\n",
              "      <td>60</td>\n",
              "      <td>False</td>\n",
              "    </tr>\n",
              "    <tr>\n",
              "      <th>2019-12-31 20:00:00</th>\n",
              "      <td>66</td>\n",
              "      <td>False</td>\n",
              "    </tr>\n",
              "    <tr>\n",
              "      <th>2019-12-31 21:00:00</th>\n",
              "      <td>70</td>\n",
              "      <td>False</td>\n",
              "    </tr>\n",
              "    <tr>\n",
              "      <th>2019-12-31 22:00:00</th>\n",
              "      <td>63</td>\n",
              "      <td>False</td>\n",
              "    </tr>\n",
              "    <tr>\n",
              "      <th>2019-12-31 23:00:00</th>\n",
              "      <td>70</td>\n",
              "      <td>False</td>\n",
              "    </tr>\n",
              "  </tbody>\n",
              "</table>\n",
              "</div>"
            ],
            "text/plain": [
              "                     Ripple  isPartial\n",
              "date                                  \n",
              "2019-12-31 19:00:00      60      False\n",
              "2019-12-31 20:00:00      66      False\n",
              "2019-12-31 21:00:00      70      False\n",
              "2019-12-31 22:00:00      63      False\n",
              "2019-12-31 23:00:00      70      False"
            ]
          },
          "metadata": {
            "tags": []
          },
          "execution_count": 12
        }
      ]
    },
    {
      "cell_type": "code",
      "metadata": {
        "id": "Lr_wnPdxJEgS",
        "colab_type": "code",
        "colab": {}
      },
      "source": [
        "data[data['hour']==0]"
      ],
      "execution_count": 0,
      "outputs": []
    },
    {
      "cell_type": "code",
      "metadata": {
        "id": "X4c_gUSy7oJB",
        "colab_type": "code",
        "colab": {}
      },
      "source": [
        "sequence = [data, coinbase, bitcoin, ethereum, binance, aggregate, xrp]\n",
        "for i in sequence: \n",
        "  i['hour'] = i.index.hour\n",
        "  i['month'] = i.index.month\n",
        "  i['day'] = i.index.day\n",
        "  i['year']= i.index.year"
      ],
      "execution_count": 0,
      "outputs": []
    },
    {
      "cell_type": "code",
      "metadata": {
        "id": "SRlSvdbs88Eo",
        "colab_type": "code",
        "colab": {}
      },
      "source": [
        "for i in sequence:\n",
        "  print(i.groupby(['hour']).count())"
      ],
      "execution_count": 0,
      "outputs": []
    },
    {
      "cell_type": "code",
      "metadata": {
        "id": "nWWyG22H5we5",
        "colab_type": "code",
        "outputId": "68b22883-1d4e-48f4-b819-04905b8ad9a4",
        "colab": {
          "base_uri": "https://localhost:8080/",
          "height": 787
        }
      },
      "source": [
        "data = data.loc[~data.index.duplicated(keep='first')]\n",
        "bitcoin = bitcoin.loc[~bitcoin.index.duplicated(keep='first')]\n",
        "coinbase = coinbase.loc[~coinbase.index.duplicated(keep='first')]\n",
        "ethereum = ethereum.loc[~ethereum.index.duplicated(keep='first')]\n",
        "binance = binance.loc[~binance.index.duplicated(keep='first')]\n",
        "aggregate = aggregate.loc[~aggregate.index.duplicated(keep='first')]\n",
        "xrp = xrp.loc[~xrp.index.duplicated(keep='first')]\n",
        "xrp.groupby(['hour']).count()"
      ],
      "execution_count": 68,
      "outputs": [
        {
          "output_type": "execute_result",
          "data": {
            "text/html": [
              "<div>\n",
              "<style scoped>\n",
              "    .dataframe tbody tr th:only-of-type {\n",
              "        vertical-align: middle;\n",
              "    }\n",
              "\n",
              "    .dataframe tbody tr th {\n",
              "        vertical-align: top;\n",
              "    }\n",
              "\n",
              "    .dataframe thead th {\n",
              "        text-align: right;\n",
              "    }\n",
              "</style>\n",
              "<table border=\"1\" class=\"dataframe\">\n",
              "  <thead>\n",
              "    <tr style=\"text-align: right;\">\n",
              "      <th></th>\n",
              "      <th>XRP</th>\n",
              "      <th>isPartial</th>\n",
              "      <th>month</th>\n",
              "      <th>day</th>\n",
              "      <th>year</th>\n",
              "    </tr>\n",
              "    <tr>\n",
              "      <th>hour</th>\n",
              "      <th></th>\n",
              "      <th></th>\n",
              "      <th></th>\n",
              "      <th></th>\n",
              "      <th></th>\n",
              "    </tr>\n",
              "  </thead>\n",
              "  <tbody>\n",
              "    <tr>\n",
              "      <th>0</th>\n",
              "      <td>1089</td>\n",
              "      <td>1089</td>\n",
              "      <td>1089</td>\n",
              "      <td>1089</td>\n",
              "      <td>1089</td>\n",
              "    </tr>\n",
              "    <tr>\n",
              "      <th>1</th>\n",
              "      <td>1088</td>\n",
              "      <td>1088</td>\n",
              "      <td>1088</td>\n",
              "      <td>1088</td>\n",
              "      <td>1088</td>\n",
              "    </tr>\n",
              "    <tr>\n",
              "      <th>2</th>\n",
              "      <td>1088</td>\n",
              "      <td>1088</td>\n",
              "      <td>1088</td>\n",
              "      <td>1088</td>\n",
              "      <td>1088</td>\n",
              "    </tr>\n",
              "    <tr>\n",
              "      <th>3</th>\n",
              "      <td>1088</td>\n",
              "      <td>1088</td>\n",
              "      <td>1088</td>\n",
              "      <td>1088</td>\n",
              "      <td>1088</td>\n",
              "    </tr>\n",
              "    <tr>\n",
              "      <th>4</th>\n",
              "      <td>1088</td>\n",
              "      <td>1088</td>\n",
              "      <td>1088</td>\n",
              "      <td>1088</td>\n",
              "      <td>1088</td>\n",
              "    </tr>\n",
              "    <tr>\n",
              "      <th>5</th>\n",
              "      <td>1088</td>\n",
              "      <td>1088</td>\n",
              "      <td>1088</td>\n",
              "      <td>1088</td>\n",
              "      <td>1088</td>\n",
              "    </tr>\n",
              "    <tr>\n",
              "      <th>6</th>\n",
              "      <td>1088</td>\n",
              "      <td>1088</td>\n",
              "      <td>1088</td>\n",
              "      <td>1088</td>\n",
              "      <td>1088</td>\n",
              "    </tr>\n",
              "    <tr>\n",
              "      <th>7</th>\n",
              "      <td>1088</td>\n",
              "      <td>1088</td>\n",
              "      <td>1088</td>\n",
              "      <td>1088</td>\n",
              "      <td>1088</td>\n",
              "    </tr>\n",
              "    <tr>\n",
              "      <th>8</th>\n",
              "      <td>1088</td>\n",
              "      <td>1088</td>\n",
              "      <td>1088</td>\n",
              "      <td>1088</td>\n",
              "      <td>1088</td>\n",
              "    </tr>\n",
              "    <tr>\n",
              "      <th>9</th>\n",
              "      <td>1088</td>\n",
              "      <td>1088</td>\n",
              "      <td>1088</td>\n",
              "      <td>1088</td>\n",
              "      <td>1088</td>\n",
              "    </tr>\n",
              "    <tr>\n",
              "      <th>10</th>\n",
              "      <td>1088</td>\n",
              "      <td>1088</td>\n",
              "      <td>1088</td>\n",
              "      <td>1088</td>\n",
              "      <td>1088</td>\n",
              "    </tr>\n",
              "    <tr>\n",
              "      <th>11</th>\n",
              "      <td>1088</td>\n",
              "      <td>1088</td>\n",
              "      <td>1088</td>\n",
              "      <td>1088</td>\n",
              "      <td>1088</td>\n",
              "    </tr>\n",
              "    <tr>\n",
              "      <th>12</th>\n",
              "      <td>1088</td>\n",
              "      <td>1088</td>\n",
              "      <td>1088</td>\n",
              "      <td>1088</td>\n",
              "      <td>1088</td>\n",
              "    </tr>\n",
              "    <tr>\n",
              "      <th>13</th>\n",
              "      <td>1088</td>\n",
              "      <td>1088</td>\n",
              "      <td>1088</td>\n",
              "      <td>1088</td>\n",
              "      <td>1088</td>\n",
              "    </tr>\n",
              "    <tr>\n",
              "      <th>14</th>\n",
              "      <td>1088</td>\n",
              "      <td>1088</td>\n",
              "      <td>1088</td>\n",
              "      <td>1088</td>\n",
              "      <td>1088</td>\n",
              "    </tr>\n",
              "    <tr>\n",
              "      <th>15</th>\n",
              "      <td>1088</td>\n",
              "      <td>1088</td>\n",
              "      <td>1088</td>\n",
              "      <td>1088</td>\n",
              "      <td>1088</td>\n",
              "    </tr>\n",
              "    <tr>\n",
              "      <th>16</th>\n",
              "      <td>1088</td>\n",
              "      <td>1088</td>\n",
              "      <td>1088</td>\n",
              "      <td>1088</td>\n",
              "      <td>1088</td>\n",
              "    </tr>\n",
              "    <tr>\n",
              "      <th>17</th>\n",
              "      <td>1088</td>\n",
              "      <td>1088</td>\n",
              "      <td>1088</td>\n",
              "      <td>1088</td>\n",
              "      <td>1088</td>\n",
              "    </tr>\n",
              "    <tr>\n",
              "      <th>18</th>\n",
              "      <td>1088</td>\n",
              "      <td>1088</td>\n",
              "      <td>1088</td>\n",
              "      <td>1088</td>\n",
              "      <td>1088</td>\n",
              "    </tr>\n",
              "    <tr>\n",
              "      <th>19</th>\n",
              "      <td>1088</td>\n",
              "      <td>1088</td>\n",
              "      <td>1088</td>\n",
              "      <td>1088</td>\n",
              "      <td>1088</td>\n",
              "    </tr>\n",
              "    <tr>\n",
              "      <th>20</th>\n",
              "      <td>1088</td>\n",
              "      <td>1088</td>\n",
              "      <td>1088</td>\n",
              "      <td>1088</td>\n",
              "      <td>1088</td>\n",
              "    </tr>\n",
              "    <tr>\n",
              "      <th>21</th>\n",
              "      <td>1088</td>\n",
              "      <td>1088</td>\n",
              "      <td>1088</td>\n",
              "      <td>1088</td>\n",
              "      <td>1088</td>\n",
              "    </tr>\n",
              "    <tr>\n",
              "      <th>22</th>\n",
              "      <td>1088</td>\n",
              "      <td>1088</td>\n",
              "      <td>1088</td>\n",
              "      <td>1088</td>\n",
              "      <td>1088</td>\n",
              "    </tr>\n",
              "    <tr>\n",
              "      <th>23</th>\n",
              "      <td>1088</td>\n",
              "      <td>1088</td>\n",
              "      <td>1088</td>\n",
              "      <td>1088</td>\n",
              "      <td>1088</td>\n",
              "    </tr>\n",
              "  </tbody>\n",
              "</table>\n",
              "</div>"
            ],
            "text/plain": [
              "       XRP  isPartial  month   day  year\n",
              "hour                                    \n",
              "0     1089       1089   1089  1089  1089\n",
              "1     1088       1088   1088  1088  1088\n",
              "2     1088       1088   1088  1088  1088\n",
              "3     1088       1088   1088  1088  1088\n",
              "4     1088       1088   1088  1088  1088\n",
              "5     1088       1088   1088  1088  1088\n",
              "6     1088       1088   1088  1088  1088\n",
              "7     1088       1088   1088  1088  1088\n",
              "8     1088       1088   1088  1088  1088\n",
              "9     1088       1088   1088  1088  1088\n",
              "10    1088       1088   1088  1088  1088\n",
              "11    1088       1088   1088  1088  1088\n",
              "12    1088       1088   1088  1088  1088\n",
              "13    1088       1088   1088  1088  1088\n",
              "14    1088       1088   1088  1088  1088\n",
              "15    1088       1088   1088  1088  1088\n",
              "16    1088       1088   1088  1088  1088\n",
              "17    1088       1088   1088  1088  1088\n",
              "18    1088       1088   1088  1088  1088\n",
              "19    1088       1088   1088  1088  1088\n",
              "20    1088       1088   1088  1088  1088\n",
              "21    1088       1088   1088  1088  1088\n",
              "22    1088       1088   1088  1088  1088\n",
              "23    1088       1088   1088  1088  1088"
            ]
          },
          "metadata": {
            "tags": []
          },
          "execution_count": 68
        }
      ]
    },
    {
      "cell_type": "code",
      "metadata": {
        "id": "5dZUhB8utn2z",
        "colab_type": "code",
        "colab": {}
      },
      "source": [
        "data.to_csv('Ripple.csv')\n",
        "coinbase.to_csv('coinbase.csv')\n",
        "bitcoin.to_csv('bitcoin.csv')\n",
        "ethereum.to_csv('ethereum.csv')\n",
        "binance.to_csv('binance.csv')\n",
        "aggregate.to_csv('aggregate.csv')\n",
        "xrp.to_csv('xrp.csv')"
      ],
      "execution_count": 0,
      "outputs": []
    },
    {
      "cell_type": "code",
      "metadata": {
        "id": "DY-Uz-U953uB",
        "colab_type": "code",
        "outputId": "11386687-8571-4a9e-d1cf-10cad8ef4b86",
        "colab": {
          "base_uri": "https://localhost:8080/",
          "height": 84
        }
      },
      "source": [
        "# data.groupby(['year','month', 'day']).Ripple.count()[data.groupby(['year','month', 'day']).Ripple.count() != 24]"
      ],
      "execution_count": 0,
      "outputs": [
        {
          "output_type": "execute_result",
          "data": {
            "text/plain": [
              "year  month  day\n",
              "2017  12     1      1\n",
              "             15     1\n",
              "Name: Ripple, dtype: int64"
            ]
          },
          "metadata": {
            "tags": []
          },
          "execution_count": 127
        }
      ]
    },
    {
      "cell_type": "code",
      "metadata": {
        "id": "Bl1nbzvu98GC",
        "colab_type": "code",
        "outputId": "9d7c1867-e158-4bd8-a8d3-2a4381f3ff22",
        "colab": {
          "base_uri": "https://localhost:8080/",
          "height": 326
        }
      },
      "source": [
        "\n",
        "fig, axes = plt.subplots(nrows=2, ncols=3)\n",
        "fig.tight_layout()\n",
        "\n",
        "plt.subplot(2, 3, 1)\n",
        "plt.title('Ripple')\n",
        "plt.plot(data.groupby(['hour']).Ripple.sum())\n",
        "\n",
        "plt.subplot(2, 3, 2)\n",
        "plt.title('Bitcoin')\n",
        "plt.plot(bitcoin.groupby(['hour']).Bitcoin.sum())\n",
        "\n",
        "plt.subplot(2, 3, 3)\n",
        "plt.title('Coinbase')\n",
        "plt.plot(coinbase.groupby(['hour']).Coinbase.sum())\n",
        "\n",
        "plt.subplot(2, 3, 4)\n",
        "plt.title('Ethereum')\n",
        "plt.plot(ethereum.groupby(['hour']).Ethereum.sum())\n",
        "\n",
        "plt.subplot(2, 3, 5)\n",
        "plt.title('Binance')\n",
        "plt.plot(binance.groupby(['hour']).Binance.sum())\n",
        "\n",
        "plt.subplot(2, 3, 6)\n",
        "plt.plot(xrp.groupby(['hour']).XRP.sum())"
      ],
      "execution_count": 70,
      "outputs": [
        {
          "output_type": "execute_result",
          "data": {
            "text/plain": [
              "[<matplotlib.lines.Line2D at 0x7f96cc03a828>]"
            ]
          },
          "metadata": {
            "tags": []
          },
          "execution_count": 70
        },
        {
          "output_type": "display_data",
          "data": {
            "image/png": "[encoded data removed]",
            "text/plain": [
              "<Figure size 432x288 with 6 Axes>"
            ]
          },
          "metadata": {
            "tags": []
          }
        }
      ]
    },
    {
      "cell_type": "code",
      "metadata": {
        "id": "6tN0zMCLFjlR",
        "colab_type": "code",
        "outputId": "9f67014c-46c5-461d-9023-013b7df9caf6",
        "colab": {
          "base_uri": "https://localhost:8080/",
          "height": 326
        }
      },
      "source": [
        "fig, axes = plt.subplots(nrows=2, ncols=3)\n",
        "fig.tight_layout()\n",
        "\n",
        "plt.subplot(2, 3, 1)\n",
        "plt.title('Ripple')\n",
        "plt.plot(data.groupby(['month']).Ripple.sum())\n",
        "\n",
        "plt.subplot(2, 3, 2)\n",
        "plt.title('Bitcoin')\n",
        "plt.plot(bitcoin.groupby(['month']).Bitcoin.sum())\n",
        "\n",
        "plt.subplot(2, 3, 3)\n",
        "plt.title('Coinbase')\n",
        "plt.plot(coinbase.groupby(['month']).Coinbase.sum())\n",
        "\n",
        "plt.subplot(2, 3, 4)\n",
        "plt.title('Ethereum')\n",
        "plt.plot(ethereum.groupby(['month']).Ethereum.sum())\n",
        "\n",
        "plt.subplot(2, 3, 5)\n",
        "plt.title('Binance')\n",
        "plt.plot(binance.groupby(['month']).Binance.sum())\n",
        "\n",
        "plt.subplot(2, 3, 6)\n",
        "plt.plot(xrp.groupby(['month']).XRP.sum())"
      ],
      "execution_count": 71,
      "outputs": [
        {
          "output_type": "execute_result",
          "data": {
            "text/plain": [
              "[<matplotlib.lines.Line2D at 0x7f96cbd03d30>]"
            ]
          },
          "metadata": {
            "tags": []
          },
          "execution_count": 71
        },
        {
          "output_type": "display_data",
          "data": {
            "image/png": "[encoded data removed]",
            "text/plain": [
              "<Figure size 432x288 with 6 Axes>"
            ]
          },
          "metadata": {
            "tags": []
          }
        }
      ]
    },
    {
      "cell_type": "code",
      "metadata": {
        "id": "nfkKMjfn-Q3f",
        "colab_type": "code",
        "outputId": "364ea6ae-190f-4fa2-9282-3683644aabef",
        "colab": {
          "base_uri": "https://localhost:8080/",
          "height": 326
        }
      },
      "source": [
        "fig, axes = plt.subplots(nrows=2, ncols=3)\n",
        "fig.tight_layout()\n",
        "\n",
        "plt.subplot(2, 3, 1)\n",
        "plt.title('Ripple')\n",
        "plt.plot(data.groupby(['day']).Ripple.sum())\n",
        "\n",
        "plt.subplot(2, 3, 2)\n",
        "plt.title('Bitcoin')\n",
        "plt.plot(bitcoin.groupby(['day']).Bitcoin.sum())\n",
        "\n",
        "plt.subplot(2, 3, 3)\n",
        "plt.title('Coinbase')\n",
        "plt.plot(coinbase.groupby(['day']).Coinbase.sum())\n",
        "\n",
        "plt.subplot(2, 3, 4)\n",
        "plt.title('Ethereum')\n",
        "plt.plot(ethereum.groupby(['day']).Ethereum.sum())\n",
        "\n",
        "plt.subplot(2, 3, 5)\n",
        "plt.title('Binance')\n",
        "plt.plot(binance.groupby(['day']).Binance.sum())\n",
        "\n",
        "plt.subplot(2, 3, 6)\n",
        "plt.plot(xrp.groupby(['day']).XRP.sum())"
      ],
      "execution_count": 72,
      "outputs": [
        {
          "output_type": "execute_result",
          "data": {
            "text/plain": [
              "[<matplotlib.lines.Line2D at 0x7f96cba63e48>]"
            ]
          },
          "metadata": {
            "tags": []
          },
          "execution_count": 72
        },
        {
          "output_type": "display_data",
          "data": {
            "image/png": "[encoded data removed]",
            "text/plain": [
              "<Figure size 432x288 with 6 Axes>"
            ]
          },
          "metadata": {
            "tags": []
          }
        }
      ]
    }
  ]
}