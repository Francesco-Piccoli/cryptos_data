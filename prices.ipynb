{
  "nbformat": 4,
  "nbformat_minor": 0,
  "metadata": {
    "colab": {
      "name": "prices.ipynb",
      "provenance": []
    },
    "kernelspec": {
      "name": "python3",
      "display_name": "Python 3"
    }
  },
  "cells": [
    {
      "cell_type": "code",
      "metadata": {
        "id": "91y3eJUaInPr",
        "colab_type": "code",
        "colab": {}
      },
      "source": [
        "import requests\n",
        "import pandas as pd\n",
        "import datetime"
      ],
      "execution_count": 0,
      "outputs": []
    },
    {
      "cell_type": "code",
      "metadata": {
        "id": "LnlNQX4-Sa4W",
        "colab_type": "code",
        "colab": {
          "base_uri": "https://localhost:8080/",
          "height": 142
        },
        "outputId": "977244c4-1196-46ec-f8d4-b9b9ccf28eb5"
      },
      "source": [
        "from google.colab import drive\n",
        "drive.mount('/content/gdrive')\n",
        "%cd gdrive/My Drive/INFO_290"
      ],
      "execution_count": 92,
      "outputs": [
        {
          "output_type": "stream",
          "text": [
            "Go to this URL in a browser: https://accounts.google.com/o/oauth2/auth?client_id=947318989803-6bn6qk8qdgf4n4g3pfee6491hc0brc4i.apps.googleusercontent.com&redirect_uri=urn%3aietf%3awg%3aoauth%3a2.0%3aoob&response_type=code&scope=email%20https%3a%2f%2fwww.googleapis.com%2fauth%2fdocs.test%20https%3a%2f%2fwww.googleapis.com%2fauth%2fdrive%20https%3a%2f%2fwww.googleapis.com%2fauth%2fdrive.photos.readonly%20https%3a%2f%2fwww.googleapis.com%2fauth%2fpeopleapi.readonly\n",
            "\n",
            "Enter your authorization code:\n",
            "··········\n",
            "Mounted at /content/gdrive\n",
            "/content/gdrive/My Drive/INFO_290\n"
          ],
          "name": "stdout"
        }
      ]
    },
    {
      "cell_type": "code",
      "metadata": {
        "id": "ko1Qp-_PUk3W",
        "colab_type": "code",
        "colab": {}
      },
      "source": [
        "apiKey = \"your key goes here\""
      ],
      "execution_count": 0,
      "outputs": []
    },
    {
      "cell_type": "markdown",
      "metadata": {
        "id": "I_V0a-DdU1zb",
        "colab_type": "text"
      },
      "source": [
        "XRP price"
      ]
    },
    {
      "cell_type": "code",
      "metadata": {
        "id": "rHm3rH6DrVJ4",
        "colab_type": "code",
        "outputId": "13d4eac5-70a3-4b2a-8d3f-ab6c60b88939",
        "colab": {
          "base_uri": "https://localhost:8080/",
          "height": 422
        }
      },
      "source": [
        "toTs = str(1585177200)\n",
        "first = True\n",
        "\n",
        "for i in range (0,17):\n",
        "  urll= \"https://min-api.cryptocompare.com/data/histohour?toTs=\"\n",
        "  url = urll + toTs\n",
        "  payload = {\n",
        "      \"api_key\": apiKey,\n",
        "      \"fsym\": \"XRP\",\n",
        "      \"tsym\": \"USD\",\n",
        "      \"limit\": 2000,\n",
        "  }\n",
        "\n",
        "  result = requests.get(url, params=payload).json()\n",
        "  if first == True:\n",
        "    df = pd.DataFrame(result['Data'])\n",
        "    first = False\n",
        "  else: \n",
        "    df= pd.concat([pd.DataFrame(result['Data']), pd.DataFrame(df) ], ignore_index=True)\n",
        "  toTs = str(df['time'][0]-3600)\n",
        "  print(toTs)\n",
        "\n",
        "print(df.head())\n"
      ],
      "execution_count": 90,
      "outputs": [
        {
          "output_type": "stream",
          "text": [
            "1577973600\n",
            "1570770000\n",
            "1563566400\n",
            "1556362800\n",
            "1549159200\n",
            "1541955600\n",
            "1534752000\n",
            "1527548400\n",
            "1520344800\n",
            "1513141200\n",
            "1505937600\n",
            "1498734000\n",
            "1491530400\n",
            "1484326800\n",
            "1477123200\n",
            "1469919600\n",
            "1462716000\n",
            "         time     close      high       low      open  volumefrom  volumeto\n",
            "0  1462719600  0.006384  0.006384  0.006354  0.006354      487.08     3.109\n",
            "1  1462723200  0.006384  0.006384  0.006384  0.006384        0.00     0.000\n",
            "2  1462726800  0.006384  0.006384  0.006384  0.006384        0.00     0.000\n",
            "3  1462730400  0.006384  0.006384  0.006384  0.006384        0.00     0.000\n",
            "4  1462734000  0.006384  0.006384  0.006384  0.006384        0.00     0.000\n"
          ],
          "name": "stdout"
        }
      ]
    },
    {
      "cell_type": "code",
      "metadata": {
        "id": "eRg9aPZxscaN",
        "colab_type": "code",
        "outputId": "3d9dc113-5c55-4521-9edb-2171ef1abaab",
        "colab": {
          "base_uri": "https://localhost:8080/",
          "height": 402
        }
      },
      "source": [
        "df['date'] = pd.to_datetime(df['time'].astype(str), unit = 's')\n",
        "df"
      ],
      "execution_count": 91,
      "outputs": [
        {
          "output_type": "execute_result",
          "data": {
            "text/html": [
              "<div>\n",
              "<style scoped>\n",
              "    .dataframe tbody tr th:only-of-type {\n",
              "        vertical-align: middle;\n",
              "    }\n",
              "\n",
              "    .dataframe tbody tr th {\n",
              "        vertical-align: top;\n",
              "    }\n",
              "\n",
              "    .dataframe thead th {\n",
              "        text-align: right;\n",
              "    }\n",
              "</style>\n",
              "<table border=\"1\" class=\"dataframe\">\n",
              "  <thead>\n",
              "    <tr style=\"text-align: right;\">\n",
              "      <th></th>\n",
              "      <th>time</th>\n",
              "      <th>close</th>\n",
              "      <th>high</th>\n",
              "      <th>low</th>\n",
              "      <th>open</th>\n",
              "      <th>volumefrom</th>\n",
              "      <th>volumeto</th>\n",
              "      <th>date</th>\n",
              "    </tr>\n",
              "  </thead>\n",
              "  <tbody>\n",
              "    <tr>\n",
              "      <th>0</th>\n",
              "      <td>1462719600</td>\n",
              "      <td>0.006384</td>\n",
              "      <td>0.006384</td>\n",
              "      <td>0.006354</td>\n",
              "      <td>0.006354</td>\n",
              "      <td>487.08</td>\n",
              "      <td>3.109</td>\n",
              "      <td>2016-05-08 15:00:00</td>\n",
              "    </tr>\n",
              "    <tr>\n",
              "      <th>1</th>\n",
              "      <td>1462723200</td>\n",
              "      <td>0.006384</td>\n",
              "      <td>0.006384</td>\n",
              "      <td>0.006384</td>\n",
              "      <td>0.006384</td>\n",
              "      <td>0.00</td>\n",
              "      <td>0.000</td>\n",
              "      <td>2016-05-08 16:00:00</td>\n",
              "    </tr>\n",
              "    <tr>\n",
              "      <th>2</th>\n",
              "      <td>1462726800</td>\n",
              "      <td>0.006384</td>\n",
              "      <td>0.006384</td>\n",
              "      <td>0.006384</td>\n",
              "      <td>0.006384</td>\n",
              "      <td>0.00</td>\n",
              "      <td>0.000</td>\n",
              "      <td>2016-05-08 17:00:00</td>\n",
              "    </tr>\n",
              "    <tr>\n",
              "      <th>3</th>\n",
              "      <td>1462730400</td>\n",
              "      <td>0.006384</td>\n",
              "      <td>0.006384</td>\n",
              "      <td>0.006384</td>\n",
              "      <td>0.006384</td>\n",
              "      <td>0.00</td>\n",
              "      <td>0.000</td>\n",
              "      <td>2016-05-08 18:00:00</td>\n",
              "    </tr>\n",
              "    <tr>\n",
              "      <th>4</th>\n",
              "      <td>1462734000</td>\n",
              "      <td>0.006384</td>\n",
              "      <td>0.006384</td>\n",
              "      <td>0.006384</td>\n",
              "      <td>0.006384</td>\n",
              "      <td>0.00</td>\n",
              "      <td>0.000</td>\n",
              "      <td>2016-05-08 19:00:00</td>\n",
              "    </tr>\n",
              "    <tr>\n",
              "      <th>...</th>\n",
              "      <td>...</td>\n",
              "      <td>...</td>\n",
              "      <td>...</td>\n",
              "      <td>...</td>\n",
              "      <td>...</td>\n",
              "      <td>...</td>\n",
              "      <td>...</td>\n",
              "      <td>...</td>\n",
              "    </tr>\n",
              "    <tr>\n",
              "      <th>34012</th>\n",
              "      <td>1585162800</td>\n",
              "      <td>0.160400</td>\n",
              "      <td>0.162100</td>\n",
              "      <td>0.160100</td>\n",
              "      <td>0.161100</td>\n",
              "      <td>17921777.75</td>\n",
              "      <td>2882707.200</td>\n",
              "      <td>2020-03-25 19:00:00</td>\n",
              "    </tr>\n",
              "    <tr>\n",
              "      <th>34013</th>\n",
              "      <td>1585166400</td>\n",
              "      <td>0.159900</td>\n",
              "      <td>0.160700</td>\n",
              "      <td>0.159800</td>\n",
              "      <td>0.160400</td>\n",
              "      <td>10404868.38</td>\n",
              "      <td>1667164.580</td>\n",
              "      <td>2020-03-25 20:00:00</td>\n",
              "    </tr>\n",
              "    <tr>\n",
              "      <th>34014</th>\n",
              "      <td>1585170000</td>\n",
              "      <td>0.159300</td>\n",
              "      <td>0.160200</td>\n",
              "      <td>0.158800</td>\n",
              "      <td>0.159900</td>\n",
              "      <td>9302164.24</td>\n",
              "      <td>1484368.710</td>\n",
              "      <td>2020-03-25 21:00:00</td>\n",
              "    </tr>\n",
              "    <tr>\n",
              "      <th>34015</th>\n",
              "      <td>1585173600</td>\n",
              "      <td>0.161800</td>\n",
              "      <td>0.161900</td>\n",
              "      <td>0.159100</td>\n",
              "      <td>0.159300</td>\n",
              "      <td>13006764.14</td>\n",
              "      <td>2087781.200</td>\n",
              "      <td>2020-03-25 22:00:00</td>\n",
              "    </tr>\n",
              "    <tr>\n",
              "      <th>34016</th>\n",
              "      <td>1585177200</td>\n",
              "      <td>0.162100</td>\n",
              "      <td>0.162300</td>\n",
              "      <td>0.160900</td>\n",
              "      <td>0.161800</td>\n",
              "      <td>7925518.61</td>\n",
              "      <td>1280916.100</td>\n",
              "      <td>2020-03-25 23:00:00</td>\n",
              "    </tr>\n",
              "  </tbody>\n",
              "</table>\n",
              "<p>34017 rows × 8 columns</p>\n",
              "</div>"
            ],
            "text/plain": [
              "             time     close  ...     volumeto                date\n",
              "0      1462719600  0.006384  ...        3.109 2016-05-08 15:00:00\n",
              "1      1462723200  0.006384  ...        0.000 2016-05-08 16:00:00\n",
              "2      1462726800  0.006384  ...        0.000 2016-05-08 17:00:00\n",
              "3      1462730400  0.006384  ...        0.000 2016-05-08 18:00:00\n",
              "4      1462734000  0.006384  ...        0.000 2016-05-08 19:00:00\n",
              "...           ...       ...  ...          ...                 ...\n",
              "34012  1585162800  0.160400  ...  2882707.200 2020-03-25 19:00:00\n",
              "34013  1585166400  0.159900  ...  1667164.580 2020-03-25 20:00:00\n",
              "34014  1585170000  0.159300  ...  1484368.710 2020-03-25 21:00:00\n",
              "34015  1585173600  0.161800  ...  2087781.200 2020-03-25 22:00:00\n",
              "34016  1585177200  0.162100  ...  1280916.100 2020-03-25 23:00:00\n",
              "\n",
              "[34017 rows x 8 columns]"
            ]
          },
          "metadata": {
            "tags": []
          },
          "execution_count": 91
        }
      ]
    },
    {
      "cell_type": "code",
      "metadata": {
        "id": "LkgSA5V9SoI2",
        "colab_type": "code",
        "colab": {}
      },
      "source": [
        "df.to_csv('XRP_historical_hourly_price.csv')    "
      ],
      "execution_count": 0,
      "outputs": []
    },
    {
      "cell_type": "code",
      "metadata": {
        "id": "wswP29XiSxtZ",
        "colab_type": "code",
        "colab": {
          "base_uri": "https://localhost:8080/",
          "height": 282
        },
        "outputId": "8af569e7-c158-4e8f-d054-019c4acc2090"
      },
      "source": [
        "import matplotlib.pyplot as plt\n",
        "plt.plot(df['close'])\n",
        "max(df['close'])"
      ],
      "execution_count": 95,
      "outputs": [
        {
          "output_type": "execute_result",
          "data": {
            "text/plain": [
              "3.28"
            ]
          },
          "metadata": {
            "tags": []
          },
          "execution_count": 95
        },
        {
          "output_type": "display_data",
          "data": {
            "image/png": "[encoded data removed]",
            "text/plain": [
              "<Figure size 432x288 with 1 Axes>"
            ]
          },
          "metadata": {
            "tags": []
          }
        }
      ]
    },
    {
      "cell_type": "markdown",
      "metadata": {
        "id": "RUJp_2IUUsxK",
        "colab_type": "text"
      },
      "source": [
        "Bitcoin price"
      ]
    },
    {
      "cell_type": "code",
      "metadata": {
        "id": "c1wjTDMWTDND",
        "colab_type": "code",
        "colab": {
          "base_uri": "https://localhost:8080/",
          "height": 422
        },
        "outputId": "189c5970-fb20-4fdc-cacb-1e0326befaee"
      },
      "source": [
        "toTs = str(1585177200)\n",
        "first = True\n",
        "for i in range (0,17):\n",
        "  urll= \"https://min-api.cryptocompare.com/data/histohour?toTs=\"\n",
        "  url = urll + toTs\n",
        "  payload = {\n",
        "      \"api_key\": apiKey,\n",
        "      \"fsym\": \"BTC\",\n",
        "      \"tsym\": \"USD\",\n",
        "      \"limit\": 2000,\n",
        "  }\n",
        "\n",
        "  result = requests.get(url, params=payload).json()\n",
        "  if first == True:\n",
        "    df = pd.DataFrame(result['Data'])\n",
        "    first = False\n",
        "  else: \n",
        "    df= pd.concat([pd.DataFrame(result['Data']), pd.DataFrame(df) ], ignore_index=True)\n",
        "  toTs = str(df['time'][0]-3600)\n",
        "  print(toTs)\n",
        "\n",
        "print(df.head())\n"
      ],
      "execution_count": 96,
      "outputs": [
        {
          "output_type": "stream",
          "text": [
            "1577973600\n",
            "1570770000\n",
            "1563566400\n",
            "1556362800\n",
            "1549159200\n",
            "1541955600\n",
            "1534752000\n",
            "1527548400\n",
            "1520344800\n",
            "1513141200\n",
            "1505937600\n",
            "1498734000\n",
            "1491530400\n",
            "1484326800\n",
            "1477123200\n",
            "1469919600\n",
            "1462716000\n",
            "         time   close    high     low    open  volumefrom   volumeto\n",
            "0  1462719600  456.57  457.07  454.74  456.85     1500.45  690601.00\n",
            "1  1462723200  458.17  458.93  457.70  456.57     1185.00  544785.50\n",
            "2  1462726800  457.51  457.99  456.53  458.17     1185.32  546070.01\n",
            "3  1462730400  458.57  458.94  457.32  457.51      932.92  428460.62\n",
            "4  1462734000  458.20  459.00  457.74  458.57     1006.57  462143.19\n"
          ],
          "name": "stdout"
        }
      ]
    },
    {
      "cell_type": "code",
      "metadata": {
        "id": "dSlB1GcNTIMV",
        "colab_type": "code",
        "colab": {
          "base_uri": "https://localhost:8080/",
          "height": 402
        },
        "outputId": "8787cf85-b07b-4798-c833-7d645cb7fc0d"
      },
      "source": [
        "df['date'] = pd.to_datetime(df['time'].astype(str), unit = 's')\n",
        "df"
      ],
      "execution_count": 97,
      "outputs": [
        {
          "output_type": "execute_result",
          "data": {
            "text/html": [
              "<div>\n",
              "<style scoped>\n",
              "    .dataframe tbody tr th:only-of-type {\n",
              "        vertical-align: middle;\n",
              "    }\n",
              "\n",
              "    .dataframe tbody tr th {\n",
              "        vertical-align: top;\n",
              "    }\n",
              "\n",
              "    .dataframe thead th {\n",
              "        text-align: right;\n",
              "    }\n",
              "</style>\n",
              "<table border=\"1\" class=\"dataframe\">\n",
              "  <thead>\n",
              "    <tr style=\"text-align: right;\">\n",
              "      <th></th>\n",
              "      <th>time</th>\n",
              "      <th>close</th>\n",
              "      <th>high</th>\n",
              "      <th>low</th>\n",
              "      <th>open</th>\n",
              "      <th>volumefrom</th>\n",
              "      <th>volumeto</th>\n",
              "      <th>date</th>\n",
              "    </tr>\n",
              "  </thead>\n",
              "  <tbody>\n",
              "    <tr>\n",
              "      <th>0</th>\n",
              "      <td>1462719600</td>\n",
              "      <td>456.57</td>\n",
              "      <td>457.07</td>\n",
              "      <td>454.74</td>\n",
              "      <td>456.85</td>\n",
              "      <td>1500.45</td>\n",
              "      <td>690601.00</td>\n",
              "      <td>2016-05-08 15:00:00</td>\n",
              "    </tr>\n",
              "    <tr>\n",
              "      <th>1</th>\n",
              "      <td>1462723200</td>\n",
              "      <td>458.17</td>\n",
              "      <td>458.93</td>\n",
              "      <td>457.70</td>\n",
              "      <td>456.57</td>\n",
              "      <td>1185.00</td>\n",
              "      <td>544785.50</td>\n",
              "      <td>2016-05-08 16:00:00</td>\n",
              "    </tr>\n",
              "    <tr>\n",
              "      <th>2</th>\n",
              "      <td>1462726800</td>\n",
              "      <td>457.51</td>\n",
              "      <td>457.99</td>\n",
              "      <td>456.53</td>\n",
              "      <td>458.17</td>\n",
              "      <td>1185.32</td>\n",
              "      <td>546070.01</td>\n",
              "      <td>2016-05-08 17:00:00</td>\n",
              "    </tr>\n",
              "    <tr>\n",
              "      <th>3</th>\n",
              "      <td>1462730400</td>\n",
              "      <td>458.57</td>\n",
              "      <td>458.94</td>\n",
              "      <td>457.32</td>\n",
              "      <td>457.51</td>\n",
              "      <td>932.92</td>\n",
              "      <td>428460.62</td>\n",
              "      <td>2016-05-08 18:00:00</td>\n",
              "    </tr>\n",
              "    <tr>\n",
              "      <th>4</th>\n",
              "      <td>1462734000</td>\n",
              "      <td>458.20</td>\n",
              "      <td>459.00</td>\n",
              "      <td>457.74</td>\n",
              "      <td>458.57</td>\n",
              "      <td>1006.57</td>\n",
              "      <td>462143.19</td>\n",
              "      <td>2016-05-08 19:00:00</td>\n",
              "    </tr>\n",
              "    <tr>\n",
              "      <th>...</th>\n",
              "      <td>...</td>\n",
              "      <td>...</td>\n",
              "      <td>...</td>\n",
              "      <td>...</td>\n",
              "      <td>...</td>\n",
              "      <td>...</td>\n",
              "      <td>...</td>\n",
              "      <td>...</td>\n",
              "    </tr>\n",
              "    <tr>\n",
              "      <th>34012</th>\n",
              "      <td>1585162800</td>\n",
              "      <td>6635.14</td>\n",
              "      <td>6689.96</td>\n",
              "      <td>6618.93</td>\n",
              "      <td>6667.30</td>\n",
              "      <td>2239.56</td>\n",
              "      <td>14920643.89</td>\n",
              "      <td>2020-03-25 19:00:00</td>\n",
              "    </tr>\n",
              "    <tr>\n",
              "      <th>34013</th>\n",
              "      <td>1585166400</td>\n",
              "      <td>6601.60</td>\n",
              "      <td>6654.88</td>\n",
              "      <td>6593.90</td>\n",
              "      <td>6635.14</td>\n",
              "      <td>2246.68</td>\n",
              "      <td>14901363.62</td>\n",
              "      <td>2020-03-25 20:00:00</td>\n",
              "    </tr>\n",
              "    <tr>\n",
              "      <th>34014</th>\n",
              "      <td>1585170000</td>\n",
              "      <td>6600.21</td>\n",
              "      <td>6625.33</td>\n",
              "      <td>6567.61</td>\n",
              "      <td>6601.60</td>\n",
              "      <td>2762.13</td>\n",
              "      <td>18221036.75</td>\n",
              "      <td>2020-03-25 21:00:00</td>\n",
              "    </tr>\n",
              "    <tr>\n",
              "      <th>34015</th>\n",
              "      <td>1585173600</td>\n",
              "      <td>6700.23</td>\n",
              "      <td>6711.38</td>\n",
              "      <td>6600.21</td>\n",
              "      <td>6600.21</td>\n",
              "      <td>2739.05</td>\n",
              "      <td>18285869.75</td>\n",
              "      <td>2020-03-25 22:00:00</td>\n",
              "    </tr>\n",
              "    <tr>\n",
              "      <th>34016</th>\n",
              "      <td>1585177200</td>\n",
              "      <td>6694.21</td>\n",
              "      <td>6712.49</td>\n",
              "      <td>6655.40</td>\n",
              "      <td>6700.23</td>\n",
              "      <td>1654.28</td>\n",
              "      <td>11100516.89</td>\n",
              "      <td>2020-03-25 23:00:00</td>\n",
              "    </tr>\n",
              "  </tbody>\n",
              "</table>\n",
              "<p>34017 rows × 8 columns</p>\n",
              "</div>"
            ],
            "text/plain": [
              "             time    close  ...     volumeto                date\n",
              "0      1462719600   456.57  ...    690601.00 2016-05-08 15:00:00\n",
              "1      1462723200   458.17  ...    544785.50 2016-05-08 16:00:00\n",
              "2      1462726800   457.51  ...    546070.01 2016-05-08 17:00:00\n",
              "3      1462730400   458.57  ...    428460.62 2016-05-08 18:00:00\n",
              "4      1462734000   458.20  ...    462143.19 2016-05-08 19:00:00\n",
              "...           ...      ...  ...          ...                 ...\n",
              "34012  1585162800  6635.14  ...  14920643.89 2020-03-25 19:00:00\n",
              "34013  1585166400  6601.60  ...  14901363.62 2020-03-25 20:00:00\n",
              "34014  1585170000  6600.21  ...  18221036.75 2020-03-25 21:00:00\n",
              "34015  1585173600  6700.23  ...  18285869.75 2020-03-25 22:00:00\n",
              "34016  1585177200  6694.21  ...  11100516.89 2020-03-25 23:00:00\n",
              "\n",
              "[34017 rows x 8 columns]"
            ]
          },
          "metadata": {
            "tags": []
          },
          "execution_count": 97
        }
      ]
    },
    {
      "cell_type": "code",
      "metadata": {
        "id": "8QbWxhTzTPPD",
        "colab_type": "code",
        "colab": {
          "base_uri": "https://localhost:8080/",
          "height": 282
        },
        "outputId": "fcd0b50a-5d0e-4bf3-e3bb-16502d6a5092"
      },
      "source": [
        "import matplotlib.pyplot as plt\n",
        "plt.plot(df['close'])\n",
        "max(df['close'])"
      ],
      "execution_count": 104,
      "outputs": [
        {
          "output_type": "execute_result",
          "data": {
            "text/plain": [
              "19784.93"
            ]
          },
          "metadata": {
            "tags": []
          },
          "execution_count": 104
        },
        {
          "output_type": "display_data",
          "data": {
            "image/png": "[encoded data removed]",
            "text/plain": [
              "<Figure size 432x288 with 1 Axes>"
            ]
          },
          "metadata": {
            "tags": []
          }
        }
      ]
    },
    {
      "cell_type": "code",
      "metadata": {
        "id": "PdGYoSb-TSZL",
        "colab_type": "code",
        "colab": {}
      },
      "source": [
        "df.to_csv('BTC_historical_hourly_price.csv')    "
      ],
      "execution_count": 0,
      "outputs": []
    },
    {
      "cell_type": "markdown",
      "metadata": {
        "id": "xZcRwAj9VDaj",
        "colab_type": "text"
      },
      "source": [
        "ETH price"
      ]
    },
    {
      "cell_type": "code",
      "metadata": {
        "id": "pWCHM7zmT2uF",
        "colab_type": "code",
        "colab": {
          "base_uri": "https://localhost:8080/",
          "height": 422
        },
        "outputId": "0e427489-16e4-4033-b0ef-40b507bb48fb"
      },
      "source": [
        "toTs = str(1585177200)\n",
        "first = True\n",
        "for i in range (0,17):\n",
        "  urll= \"https://min-api.cryptocompare.com/data/histohour?toTs=\"\n",
        "  url = urll + toTs\n",
        "  payload = {\n",
        "      \"api_key\": apiKey,\n",
        "      \"fsym\": \"ETH\",\n",
        "      \"tsym\": \"USD\",\n",
        "      \"limit\": 2000,\n",
        "  }\n",
        "\n",
        "  result = requests.get(url, params=payload).json()\n",
        "  if first == True:\n",
        "    df = pd.DataFrame(result['Data'])\n",
        "    first = False\n",
        "  else: \n",
        "    df= pd.concat([pd.DataFrame(result['Data']), pd.DataFrame(df) ], ignore_index=True)\n",
        "  toTs = str(df['time'][0]-3600)\n",
        "  print(toTs)\n",
        "\n",
        "print(df.head())\n"
      ],
      "execution_count": 105,
      "outputs": [
        {
          "output_type": "stream",
          "text": [
            "1577973600\n",
            "1570770000\n",
            "1563566400\n",
            "1556362800\n",
            "1549159200\n",
            "1541955600\n",
            "1534752000\n",
            "1527548400\n",
            "1520344800\n",
            "1513141200\n",
            "1505937600\n",
            "1498734000\n",
            "1491530400\n",
            "1484326800\n",
            "1477123200\n",
            "1469919600\n",
            "1462716000\n",
            "         time  close   high    low   open  volumefrom  volumeto\n",
            "0  1462719600  9.258  9.339  9.083  9.084     1223.68  11404.83\n",
            "1  1462723200  9.179  9.281  9.172  9.258      413.32   3813.55\n",
            "2  1462726800  9.482  9.558  9.194  9.179     4201.04  39790.47\n",
            "3  1462730400  9.446  9.520  9.364  9.482     1579.54  14937.88\n",
            "4  1462734000  9.438  9.535  9.365  9.446     1302.26  12363.93\n"
          ],
          "name": "stdout"
        }
      ]
    },
    {
      "cell_type": "code",
      "metadata": {
        "id": "bMfwBFjRUEQV",
        "colab_type": "code",
        "colab": {
          "base_uri": "https://localhost:8080/",
          "height": 402
        },
        "outputId": "0698ea07-f429-41f8-be53-e1b680d78082"
      },
      "source": [
        "df['date'] = pd.to_datetime(df['time'].astype(str), unit = 's')\n",
        "df"
      ],
      "execution_count": 106,
      "outputs": [
        {
          "output_type": "execute_result",
          "data": {
            "text/html": [
              "<div>\n",
              "<style scoped>\n",
              "    .dataframe tbody tr th:only-of-type {\n",
              "        vertical-align: middle;\n",
              "    }\n",
              "\n",
              "    .dataframe tbody tr th {\n",
              "        vertical-align: top;\n",
              "    }\n",
              "\n",
              "    .dataframe thead th {\n",
              "        text-align: right;\n",
              "    }\n",
              "</style>\n",
              "<table border=\"1\" class=\"dataframe\">\n",
              "  <thead>\n",
              "    <tr style=\"text-align: right;\">\n",
              "      <th></th>\n",
              "      <th>time</th>\n",
              "      <th>close</th>\n",
              "      <th>high</th>\n",
              "      <th>low</th>\n",
              "      <th>open</th>\n",
              "      <th>volumefrom</th>\n",
              "      <th>volumeto</th>\n",
              "      <th>date</th>\n",
              "    </tr>\n",
              "  </thead>\n",
              "  <tbody>\n",
              "    <tr>\n",
              "      <th>0</th>\n",
              "      <td>1462719600</td>\n",
              "      <td>9.258</td>\n",
              "      <td>9.339</td>\n",
              "      <td>9.083</td>\n",
              "      <td>9.084</td>\n",
              "      <td>1223.68</td>\n",
              "      <td>11404.83</td>\n",
              "      <td>2016-05-08 15:00:00</td>\n",
              "    </tr>\n",
              "    <tr>\n",
              "      <th>1</th>\n",
              "      <td>1462723200</td>\n",
              "      <td>9.179</td>\n",
              "      <td>9.281</td>\n",
              "      <td>9.172</td>\n",
              "      <td>9.258</td>\n",
              "      <td>413.32</td>\n",
              "      <td>3813.55</td>\n",
              "      <td>2016-05-08 16:00:00</td>\n",
              "    </tr>\n",
              "    <tr>\n",
              "      <th>2</th>\n",
              "      <td>1462726800</td>\n",
              "      <td>9.482</td>\n",
              "      <td>9.558</td>\n",
              "      <td>9.194</td>\n",
              "      <td>9.179</td>\n",
              "      <td>4201.04</td>\n",
              "      <td>39790.47</td>\n",
              "      <td>2016-05-08 17:00:00</td>\n",
              "    </tr>\n",
              "    <tr>\n",
              "      <th>3</th>\n",
              "      <td>1462730400</td>\n",
              "      <td>9.446</td>\n",
              "      <td>9.520</td>\n",
              "      <td>9.364</td>\n",
              "      <td>9.482</td>\n",
              "      <td>1579.54</td>\n",
              "      <td>14937.88</td>\n",
              "      <td>2016-05-08 18:00:00</td>\n",
              "    </tr>\n",
              "    <tr>\n",
              "      <th>4</th>\n",
              "      <td>1462734000</td>\n",
              "      <td>9.438</td>\n",
              "      <td>9.535</td>\n",
              "      <td>9.365</td>\n",
              "      <td>9.446</td>\n",
              "      <td>1302.26</td>\n",
              "      <td>12363.93</td>\n",
              "      <td>2016-05-08 19:00:00</td>\n",
              "    </tr>\n",
              "    <tr>\n",
              "      <th>...</th>\n",
              "      <td>...</td>\n",
              "      <td>...</td>\n",
              "      <td>...</td>\n",
              "      <td>...</td>\n",
              "      <td>...</td>\n",
              "      <td>...</td>\n",
              "      <td>...</td>\n",
              "      <td>...</td>\n",
              "    </tr>\n",
              "    <tr>\n",
              "      <th>34012</th>\n",
              "      <td>1585162800</td>\n",
              "      <td>135.960</td>\n",
              "      <td>136.710</td>\n",
              "      <td>135.890</td>\n",
              "      <td>136.570</td>\n",
              "      <td>7757.25</td>\n",
              "      <td>1057262.11</td>\n",
              "      <td>2020-03-25 19:00:00</td>\n",
              "    </tr>\n",
              "    <tr>\n",
              "      <th>34013</th>\n",
              "      <td>1585166400</td>\n",
              "      <td>135.440</td>\n",
              "      <td>136.100</td>\n",
              "      <td>135.440</td>\n",
              "      <td>135.960</td>\n",
              "      <td>10498.35</td>\n",
              "      <td>1425904.66</td>\n",
              "      <td>2020-03-25 20:00:00</td>\n",
              "    </tr>\n",
              "    <tr>\n",
              "      <th>34014</th>\n",
              "      <td>1585170000</td>\n",
              "      <td>134.410</td>\n",
              "      <td>135.470</td>\n",
              "      <td>133.340</td>\n",
              "      <td>135.440</td>\n",
              "      <td>25558.72</td>\n",
              "      <td>3428267.29</td>\n",
              "      <td>2020-03-25 21:00:00</td>\n",
              "    </tr>\n",
              "    <tr>\n",
              "      <th>34015</th>\n",
              "      <td>1585173600</td>\n",
              "      <td>136.170</td>\n",
              "      <td>136.290</td>\n",
              "      <td>134.400</td>\n",
              "      <td>134.410</td>\n",
              "      <td>15954.12</td>\n",
              "      <td>2163312.39</td>\n",
              "      <td>2020-03-25 22:00:00</td>\n",
              "    </tr>\n",
              "    <tr>\n",
              "      <th>34016</th>\n",
              "      <td>1585177200</td>\n",
              "      <td>136.280</td>\n",
              "      <td>136.550</td>\n",
              "      <td>135.530</td>\n",
              "      <td>136.170</td>\n",
              "      <td>8065.68</td>\n",
              "      <td>1097201.57</td>\n",
              "      <td>2020-03-25 23:00:00</td>\n",
              "    </tr>\n",
              "  </tbody>\n",
              "</table>\n",
              "<p>34017 rows × 8 columns</p>\n",
              "</div>"
            ],
            "text/plain": [
              "             time    close     high  ...  volumefrom    volumeto                date\n",
              "0      1462719600    9.258    9.339  ...     1223.68    11404.83 2016-05-08 15:00:00\n",
              "1      1462723200    9.179    9.281  ...      413.32     3813.55 2016-05-08 16:00:00\n",
              "2      1462726800    9.482    9.558  ...     4201.04    39790.47 2016-05-08 17:00:00\n",
              "3      1462730400    9.446    9.520  ...     1579.54    14937.88 2016-05-08 18:00:00\n",
              "4      1462734000    9.438    9.535  ...     1302.26    12363.93 2016-05-08 19:00:00\n",
              "...           ...      ...      ...  ...         ...         ...                 ...\n",
              "34012  1585162800  135.960  136.710  ...     7757.25  1057262.11 2020-03-25 19:00:00\n",
              "34013  1585166400  135.440  136.100  ...    10498.35  1425904.66 2020-03-25 20:00:00\n",
              "34014  1585170000  134.410  135.470  ...    25558.72  3428267.29 2020-03-25 21:00:00\n",
              "34015  1585173600  136.170  136.290  ...    15954.12  2163312.39 2020-03-25 22:00:00\n",
              "34016  1585177200  136.280  136.550  ...     8065.68  1097201.57 2020-03-25 23:00:00\n",
              "\n",
              "[34017 rows x 8 columns]"
            ]
          },
          "metadata": {
            "tags": []
          },
          "execution_count": 106
        }
      ]
    },
    {
      "cell_type": "code",
      "metadata": {
        "id": "nqsNBOvDUGzq",
        "colab_type": "code",
        "colab": {
          "base_uri": "https://localhost:8080/",
          "height": 282
        },
        "outputId": "98d7a0ca-3c48-4e35-8bb5-b535c30ea12e"
      },
      "source": [
        "import matplotlib.pyplot as plt\n",
        "plt.plot(df['close'])\n",
        "max(df['close'])"
      ],
      "execution_count": 107,
      "outputs": [
        {
          "output_type": "execute_result",
          "data": {
            "text/plain": [
              "1420.77"
            ]
          },
          "metadata": {
            "tags": []
          },
          "execution_count": 107
        },
        {
          "output_type": "display_data",
          "data": {
            "image/png": "[encoded data removed]",
            "text/plain": [
              "<Figure size 432x288 with 1 Axes>"
            ]
          },
          "metadata": {
            "tags": []
          }
        }
      ]
    },
    {
      "cell_type": "code",
      "metadata": {
        "id": "7ueJ2mfpUKiJ",
        "colab_type": "code",
        "colab": {}
      },
      "source": [
        "df.to_csv('ETH_historical_hourly_price.csv')    "
      ],
      "execution_count": 0,
      "outputs": []
    }
  ]
}